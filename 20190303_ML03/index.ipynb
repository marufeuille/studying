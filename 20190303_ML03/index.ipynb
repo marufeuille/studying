{
 "cells": [
  {
   "cell_type": "markdown",
   "metadata": {},
   "source": [
    "# ML勉強会03\n",
    "## mnistの手書き文字認識を使って、ディープラーニングを理解してみる\n",
    "### データセット\n",
    "- MNISTの手書き文字 http://yann.lecun.com/exdb/mnist/\n",
    "\n",
    "### 参考\n",
    "- [ゼロから作る DeepLearning](https://www.oreilly.co.jp/books/9784873117584/)"
   ]
  },
  {
   "cell_type": "markdown",
   "metadata": {},
   "source": [
    "### おまじない"
   ]
  },
  {
   "cell_type": "code",
   "execution_count": 1,
   "metadata": {},
   "outputs": [],
   "source": [
    "import gzip\n",
    "import numpy as np\n",
    "import matplotlib.pyplot as plt\n",
    "import matplotlib.image as mpimg\n",
    "from PIL import Image"
   ]
  },
  {
   "cell_type": "code",
   "execution_count": 2,
   "metadata": {},
   "outputs": [],
   "source": [
    "%matplotlib inline"
   ]
  },
  {
   "cell_type": "markdown",
   "metadata": {},
   "source": [
    "## データセットの読み込み\n",
    "- mnistでダウンロードしたTraining用のラベル、画像、Test用のラベル、画像を読み込ませる\n",
    "- なお、ラベルは通常の数値ではなく、1-hot表現で取り込んでいる。\n",
    "- 1-hot表現は例えば7なら[0,0,0,0,0,0,0,1,0,0]のように正解のところにbitが立っていて、それ以外はゼロとなるような表現のことを言う"
   ]
  },
  {
   "cell_type": "markdown",
   "metadata": {},
   "source": [
    "### Load Labels(Training Data)"
   ]
  },
  {
   "cell_type": "code",
   "execution_count": 3,
   "metadata": {},
   "outputs": [
    {
     "name": "stdout",
     "output_type": "stream",
     "text": [
      "2049\n",
      "60000\n",
      "shape: (60000, 10)\n"
     ]
    }
   ],
   "source": [
    "file = gzip.open(\"mnist/train-labels-idx1-ubyte.gz\", \"rb\")\n",
    "label_data = file.read()\n",
    "file.close()\n",
    "magic = int.from_bytes(label_data[0:4], byteorder='big')\n",
    "num_of_data = int.from_bytes(label_data[4:8], byteorder='big')\n",
    "print(magic)\n",
    "print(num_of_data)\n",
    "t_train  = np.ndarray((num_of_data,10), dtype='uint8')\n",
    "offset = 8\n",
    "for i in range(0, num_of_data):\n",
    "  t_train [i] = np.zeros(10,dtype=\"int8\")\n",
    "  t_train [i][label_data[offset+i]] = 1\n",
    "\n",
    "print (\"shape: {}\".format(t_train.shape))"
   ]
  },
  {
   "cell_type": "markdown",
   "metadata": {},
   "source": [
    "### Load Image(Training Data)"
   ]
  },
  {
   "cell_type": "code",
   "execution_count": 4,
   "metadata": {},
   "outputs": [
    {
     "name": "stdout",
     "output_type": "stream",
     "text": [
      "2051\n",
      "60000\n",
      "28\n",
      "28\n",
      "shape: (60000, 784)\n"
     ]
    }
   ],
   "source": [
    "file = gzip.open(\"mnist/train-images-idx3-ubyte.gz\", \"rb\")\n",
    "dataset = file.read()\n",
    "file.close()\n",
    "magic = int.from_bytes(dataset[0:4], byteorder='big')\n",
    "num_of_data = int.from_bytes(dataset[4:8], byteorder='big')\n",
    "num_of_rows = int.from_bytes(dataset[8:12], byteorder='big')\n",
    "num_of_cols = int.from_bytes(dataset[12:16], byteorder='big')\n",
    "print(magic)\n",
    "print(num_of_data)\n",
    "print(num_of_rows)\n",
    "print(num_of_cols)\n",
    "data_size = num_of_rows * num_of_cols\n",
    "x_train = np.ndarray((num_of_data, data_size), dtype='uint8')\n",
    "offset = 16\n",
    "for i in range(0, num_of_data):\n",
    "    for j in range(0, data_size):\n",
    "      x_train[i][j] = dataset[offset+i*data_size+j]\n",
    "\n",
    "print (\"shape: {}\".format(x_train.shape))"
   ]
  },
  {
   "cell_type": "markdown",
   "metadata": {},
   "source": [
    "### Load Labels (Test Label)"
   ]
  },
  {
   "cell_type": "code",
   "execution_count": 5,
   "metadata": {},
   "outputs": [
    {
     "name": "stdout",
     "output_type": "stream",
     "text": [
      "2049\n",
      "10000\n",
      "shape: (10000, 10)\n"
     ]
    }
   ],
   "source": [
    "file = gzip.open(\"mnist/t10k-labels-idx1-ubyte.gz\", \"rb\")\n",
    "label_data = file.read()\n",
    "file.close()\n",
    "magic = int.from_bytes(label_data[0:4], byteorder='big')\n",
    "num_of_data = int.from_bytes(label_data[4:8], byteorder='big')\n",
    "print(magic)\n",
    "print(num_of_data)\n",
    "t_test = np.ndarray((num_of_data,10), dtype='int8')\n",
    "offset = 8\n",
    "for i in range(0, num_of_data):\n",
    "  t_test [i] = np.zeros(10,dtype=\"uint8\")\n",
    "  t_test [i][label_data[offset+i]] = 1\n",
    "\n",
    "print (\"shape: {}\".format(t_test.shape))"
   ]
  },
  {
   "cell_type": "markdown",
   "metadata": {},
   "source": [
    "### Load Data(Test Data)"
   ]
  },
  {
   "cell_type": "code",
   "execution_count": 6,
   "metadata": {},
   "outputs": [
    {
     "name": "stdout",
     "output_type": "stream",
     "text": [
      "2051\n",
      "10000\n",
      "28\n",
      "28\n",
      "shape: (10000, 784)\n"
     ]
    }
   ],
   "source": [
    "file = gzip.open(\"mnist/t10k-images-idx3-ubyte.gz\", \"rb\")\n",
    "dataset = file.read()\n",
    "file.close()\n",
    "magic = int.from_bytes(dataset[0:4], byteorder='big')\n",
    "num_of_data = int.from_bytes(dataset[4:8], byteorder='big')\n",
    "num_of_rows = int.from_bytes(dataset[8:12], byteorder='big')\n",
    "num_of_cols = int.from_bytes(dataset[12:16], byteorder='big')\n",
    "print(magic)\n",
    "print(num_of_data)\n",
    "print(num_of_rows)\n",
    "print(num_of_cols)\n",
    "data_size = num_of_rows * num_of_cols\n",
    "x_test = np.ndarray((num_of_data, data_size), dtype='uint8')\n",
    "offset = 16\n",
    "for i in range(0, num_of_data):\n",
    "    for j in range(0, data_size):\n",
    "      x_test[i][j] = dataset[offset+i*data_size+j]\n",
    "\n",
    "print (\"shape: {}\".format(x_test.shape))"
   ]
  },
  {
   "cell_type": "markdown",
   "metadata": {},
   "source": [
    "### show some data\n",
    "- なんとなく読み込めていることを確認するために、適当なところを1つ表示してみます。"
   ]
  },
  {
   "cell_type": "code",
   "execution_count": 7,
   "metadata": {},
   "outputs": [
    {
     "name": "stdout",
     "output_type": "stream",
     "text": [
      "label : [0 0 0 0 0 0 0 1 0 0]\n"
     ]
    },
    {
     "data": {
      "text/plain": [
       "<matplotlib.image.AxesImage at 0x7f6cf8d019b0>"
      ]
     },
     "execution_count": 7,
     "metadata": {},
     "output_type": "execute_result"
    },
    {
     "data": {
      "image/png": "[encoded data removed]",
      "text/plain": [
       "<Figure size 432x288 with 1 Axes>"
      ]
     },
     "metadata": {
      "needs_background": "light"
     },
     "output_type": "display_data"
    }
   ],
   "source": [
    "num_of_showimg = 9885\n",
    "print(\"label : {}\".format(t_train[num_of_showimg]))\n",
    "img = Image.fromarray(np.uint8(x_train[num_of_showimg].reshape(28,28)))\n",
    "plt.imshow(img)"
   ]
  },
  {
   "cell_type": "markdown",
   "metadata": {},
   "source": [
    "### softmax"
   ]
  },
  {
   "cell_type": "code",
   "execution_count": 8,
   "metadata": {
    "scrolled": true
   },
   "outputs": [
    {
     "data": {
      "image/png": "[encoded data removed]",
      "text/plain": [
       "<Figure size 432x288 with 1 Axes>"
      ]
     },
     "metadata": {
      "needs_background": "light"
     },
     "output_type": "display_data"
    }
   ],
   "source": [
    "def softmax(x):\n",
    "    if x.ndim == 2:\n",
    "        x = x.T\n",
    "        x = x - np.max(x, axis=0)\n",
    "        y = np.exp(x) / np.sum(np.exp(x), axis=0)\n",
    "        return y.T \n",
    "\n",
    "    x = x - np.max(x) # オーバーフロー対策\n",
    "    return np.exp(x) / np.sum(np.exp(x))\n",
    "\n",
    "x = np.arange(-5.0, 5.0, 0.1)\n",
    "y = softmax(x)\n",
    "plt.plot(x,y)\n",
    "#plt.ylim(-0.1,1.1)\n",
    "plt.show()"
   ]
  },
  {
   "cell_type": "markdown",
   "metadata": {},
   "source": [
    "### シグモイド"
   ]
  },
  {
   "cell_type": "code",
   "execution_count": 9,
   "metadata": {},
   "outputs": [
    {
     "data": {
      "image/png": "[encoded data removed]",
      "text/plain": [
       "<Figure size 432x288 with 1 Axes>"
      ]
     },
     "metadata": {
      "needs_background": "light"
     },
     "output_type": "display_data"
    }
   ],
   "source": [
    "def sigmoid(x):\n",
    "    return 1/(1+np.exp(-x))\n",
    "\n",
    "def sigmoid_grad(x):\n",
    "    return (1.0 - sigmoid(x)) * sigmoid(x)\n",
    "\n",
    "x = np.arange(-5.0, 5.0, 0.1)\n",
    "y = sigmoid_grad(x)\n",
    "plt.plot(x,y)\n",
    "plt.ylim(-0.1,1.1)\n",
    "plt.show()"
   ]
  },
  {
   "cell_type": "markdown",
   "metadata": {},
   "source": [
    "### 損失関数"
   ]
  },
  {
   "cell_type": "code",
   "execution_count": 10,
   "metadata": {},
   "outputs": [],
   "source": [
    "def cross_entropy_error(y, t):\n",
    "    if y.ndim == 1:\n",
    "        t = t.reshape(1, t.size)\n",
    "        y = y.reshape(1, y.size)\n",
    "        \n",
    "    # 教師データがone-hot-vectorの場合、正解ラベルのインデックスに変換\n",
    "    if t.size == y.size:\n",
    "        t = t.argmax(axis=1)\n",
    "             \n",
    "    batch_size = y.shape[0]\n",
    "    return -np.sum(np.log(y[np.arange(batch_size), t] + 1e-7)) / batch_size"
   ]
  },
  {
   "cell_type": "markdown",
   "metadata": {},
   "source": [
    "### 勾配の計算\n"
   ]
  },
  {
   "cell_type": "code",
   "execution_count": 11,
   "metadata": {},
   "outputs": [],
   "source": [
    "def numerical_gradient(f, x):\n",
    "    h = 1e-4 # 0.0001\n",
    "    grad = np.zeros_like(x)\n",
    "    \n",
    "    it = np.nditer(x, flags=['multi_index'], op_flags=['readwrite'])\n",
    "    while not it.finished:\n",
    "        idx = it.multi_index\n",
    "        tmp_val = x[idx]\n",
    "        x[idx] = float(tmp_val) + h\n",
    "        fxh1 = f(x) # f(x+h)\n",
    "        \n",
    "        x[idx] = tmp_val - h \n",
    "        fxh2 = f(x) # f(x-h)\n",
    "        grad[idx] = (fxh1 - fxh2) / (2*h)\n",
    "        \n",
    "        x[idx] = tmp_val # 値を元に戻す\n",
    "        it.iternext()   \n",
    "        \n",
    "    return grad"
   ]
  },
  {
   "cell_type": "code",
   "execution_count": 12,
   "metadata": {},
   "outputs": [],
   "source": [
    "class TwoLayerNet:\n",
    "\n",
    "    def __init__(self, input_size, hidden_size, output_size, weight_init_std=0.01):\n",
    "        # 重みの初期化\n",
    "        self.params = {}\n",
    "        self.params['W1'] = weight_init_std * np.random.randn(input_size, hidden_size)\n",
    "        self.params['b1'] = np.zeros(hidden_size)\n",
    "        self.params['W2'] = weight_init_std * np.random.randn(hidden_size, output_size)\n",
    "        self.params['b2'] = np.zeros(output_size)\n",
    "\n",
    "    def predict(self, x):\n",
    "        W1, W2 = self.params['W1'], self.params['W2']\n",
    "        b1, b2 = self.params['b1'], self.params['b2']\n",
    "    \n",
    "        a1 = np.dot(x, W1) + b1\n",
    "        z1 = sigmoid(a1)\n",
    "        a2 = np.dot(z1, W2) + b2\n",
    "        y = softmax(a2)\n",
    "        \n",
    "        return y\n",
    "        \n",
    "    # x:入力データ, t:教師データ\n",
    "    def loss(self, x, t):\n",
    "        y = self.predict(x)\n",
    "        \n",
    "        return cross_entropy_error(y, t)\n",
    "    \n",
    "    def accuracy(self, x, t):\n",
    "        y = self.predict(x)\n",
    "        y = np.argmax(y, axis=1)\n",
    "        t = np.argmax(t, axis=1)\n",
    "        \n",
    "        accuracy = np.sum(y == t) / float(x.shape[0])\n",
    "        return accuracy\n",
    "        \n",
    "    # x:入力データ, t:教師データ\n",
    "    def numerical_gradient(self, x, t):\n",
    "        loss_W = lambda W: self.loss(x, t)\n",
    "        \n",
    "        grads = {}\n",
    "        grads['W1'] = numerical_gradient(loss_W, self.params['W1'])\n",
    "        grads['b1'] = numerical_gradient(loss_W, self.params['b1'])\n",
    "        grads['W2'] = numerical_gradient(loss_W, self.params['W2'])\n",
    "        grads['b2'] = numerical_gradient(loss_W, self.params['b2'])\n",
    "        \n",
    "        return grads\n",
    "        \n",
    "    def gradient(self, x, t):\n",
    "        W1, W2 = self.params['W1'], self.params['W2']\n",
    "        b1, b2 = self.params['b1'], self.params['b2']\n",
    "        grads = {}\n",
    "        \n",
    "        batch_num = x.shape[0]\n",
    "        \n",
    "        # forward\n",
    "        a1 = np.dot(x, W1) + b1\n",
    "        z1 = sigmoid(a1)\n",
    "        a2 = np.dot(z1, W2) + b2\n",
    "        y = softmax(a2)\n",
    "        \n",
    "        # backward\n",
    "        dy = (y - t) / batch_num\n",
    "        grads['W2'] = np.dot(z1.T, dy)\n",
    "        grads['b2'] = np.sum(dy, axis=0)\n",
    "        \n",
    "        dz1 = np.dot(dy, W2.T)\n",
    "        da1 = sigmoid_grad(a1) * dz1\n",
    "        grads['W1'] = np.dot(x.T, da1)\n",
    "        grads['b1'] = np.sum(da1, axis=0)\n",
    "\n",
    "        return grads"
   ]
  },
  {
   "cell_type": "code",
   "execution_count": 13,
   "metadata": {},
   "outputs": [
    {
     "name": "stdout",
     "output_type": "stream",
     "text": [
      "train acc, test acc | 0.17603333333333335, 0.1807\n"
     ]
    },
    {
     "name": "stderr",
     "output_type": "stream",
     "text": [
      "/opt/conda/lib/python3.6/site-packages/ipykernel_launcher.py:2: RuntimeWarning: overflow encountered in exp\n",
      "  \n"
     ]
    },
    {
     "name": "stdout",
     "output_type": "stream",
     "text": [
      "train acc, test acc | 0.8539666666666667, 0.8493\n",
      "train acc, test acc | 0.8594833333333334, 0.8601\n",
      "train acc, test acc | 0.8642333333333333, 0.8717\n",
      "train acc, test acc | 0.86435, 0.8666\n",
      "train acc, test acc | 0.8666333333333334, 0.8701\n",
      "train acc, test acc | 0.8656833333333334, 0.8712\n",
      "train acc, test acc | 0.8751, 0.8835\n",
      "train acc, test acc | 0.8726833333333334, 0.8697\n",
      "train acc, test acc | 0.8750333333333333, 0.8783\n",
      "train acc, test acc | 0.8664333333333334, 0.8691\n",
      "train acc, test acc | 0.878, 0.8802\n",
      "train acc, test acc | 0.8692166666666666, 0.8715\n",
      "train acc, test acc | 0.87995, 0.8815\n",
      "train acc, test acc | 0.8822166666666666, 0.887\n",
      "train acc, test acc | 0.86355, 0.8694\n",
      "train acc, test acc | 0.8723, 0.8796\n"
     ]
    },
    {
     "data": {
      "image/png": "[encoded data removed]",
      "text/plain": [
       "<Figure size 432x288 with 1 Axes>"
      ]
     },
     "metadata": {
      "needs_background": "light"
     },
     "output_type": "display_data"
    }
   ],
   "source": [
    "network = TwoLayerNet(input_size=784, hidden_size=50, output_size=10)\n",
    "\n",
    "iters_num = 10000  # 繰り返しの回数を適宜設定する\n",
    "train_size = x_train.shape[0]\n",
    "batch_size = 100\n",
    "learning_rate = 0.1\n",
    "\n",
    "train_loss_list = []\n",
    "train_acc_list = []\n",
    "test_acc_list = []\n",
    "\n",
    "iter_per_epoch = max(train_size / batch_size, 1)\n",
    "\n",
    "for i in range(iters_num):\n",
    "    batch_mask = np.random.choice(train_size, batch_size)\n",
    "    x_batch = x_train[batch_mask]\n",
    "    t_batch = t_train[batch_mask]\n",
    "    \n",
    "    # 勾配の計算\n",
    "    #grad = network.numerical_gradient(x_batch, t_batch)\n",
    "    grad = network.gradient(x_batch, t_batch)\n",
    "    \n",
    "    # パラメータの更新\n",
    "    for key in ('W1', 'b1', 'W2', 'b2'):\n",
    "        network.params[key] -= learning_rate * grad[key]\n",
    "    \n",
    "    loss = network.loss(x_batch, t_batch)\n",
    "    train_loss_list.append(loss)\n",
    "    \n",
    "    if i % iter_per_epoch == 0:\n",
    "        train_acc = network.accuracy(x_train, t_train)\n",
    "        test_acc = network.accuracy(x_test, t_test)\n",
    "        train_acc_list.append(train_acc)\n",
    "        test_acc_list.append(test_acc)\n",
    "        print(\"train acc, test acc | \" + str(train_acc) + \", \" + str(test_acc))\n",
    "\n",
    "# グラフの描画\n",
    "markers = {'train': 'o', 'test': 's'}\n",
    "x = np.arange(len(train_acc_list))\n",
    "plt.plot(x, train_acc_list, label='train acc')\n",
    "plt.plot(x, test_acc_list, label='test acc', linestyle='--')\n",
    "plt.xlabel(\"epochs\")\n",
    "plt.ylabel(\"accuracy\")\n",
    "plt.ylim(0, 1.0)\n",
    "plt.legend(loc='lower right')\n",
    "plt.show()\n"
   ]
  },
  {
   "cell_type": "code",
   "execution_count": null,
   "metadata": {},
   "outputs": [],
   "source": []
  }
 ],
 "metadata": {
  "kernelspec": {
   "display_name": "Python 3",
   "language": "python",
   "name": "python3"
  },
  "language_info": {
   "codemirror_mode": {
    "name": "ipython",
    "version": 3
   },
   "file_extension": ".py",
   "mimetype": "text/x-python",
   "name": "python",
   "nbconvert_exporter": "python",
   "pygments_lexer": "ipython3",
   "version": "3.6.7"
  }
 },
 "nbformat": 4,
 "nbformat_minor": 2
}
