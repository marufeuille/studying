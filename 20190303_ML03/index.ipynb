{
 "cells": [
  {
   "cell_type": "markdown",
   "metadata": {},
   "source": [
    "# ML勉強会03 ~ mnistの手書き文字認識を使って、ディープラーニングを理解してみる\n",
    "## データセット\n",
    "- MNISTの手書き文字 http://yann.lecun.com/exdb/mnist/\n",
    "\n",
    "## 参考\n",
    "- [ゼロから作る DeepLearning](https://www.oreilly.co.jp/books/9784873117584/)\n",
    "\n",
    "## ニューラルネットワークの仕組み\n",
    "今回は参考の本に習って、MNISTの手書き文字を2層で処理するものを考える。\n",
    "\n",
    "その場合概ね、以下のような構造となる\n",
    "\n",
    "![image.png](img/01.png)\n",
    "\n",
    "たくさんの変数が出てくるが、ざっくりいうと、各入力値1つ1つに対して重みをかけて、それを何層か繰り返すことでそれが何であるのかを分類していくようなイメージのようだ。\n",
    "\n",
    "## 重みの獲得\n",
    "重みは学習の中で自動的に獲得される。\n",
    "\n",
    "ニューラルネットワークは概ね以下のようなイメージとなるが、つまり、出力結果が正解ラベルと近しくなるようなパラメータを選択する必要がある。\n",
    "\n",
    "![image.png](img/02.png)\n",
    "\n",
    "\n",
    "以下では具体的な実装例を見ながら上記について考えていく。"
   ]
  },
  {
   "cell_type": "markdown",
   "metadata": {},
   "source": [
    "## おまじない\n",
    "とりあえず必要なものをimportする"
   ]
  },
  {
   "cell_type": "code",
   "execution_count": 1,
   "metadata": {},
   "outputs": [],
   "source": [
    "import gzip\n",
    "import numpy as np\n",
    "import matplotlib.pyplot as plt\n",
    "import matplotlib.image as mpimg\n",
    "from PIL import Image"
   ]
  },
  {
   "cell_type": "code",
   "execution_count": 2,
   "metadata": {},
   "outputs": [],
   "source": [
    "%matplotlib inline"
   ]
  },
  {
   "cell_type": "markdown",
   "metadata": {},
   "source": [
    "## 入力層: データセットの読み込み\n",
    "- mnistでダウンロードしたTraining用のラベル、画像、Test用のラベル、画像を読み込ませる\n",
    "- なお、ラベルは通常の数値ではなく、1-hot表現で取り込んでいる。\n",
    "- 1-hot表現は例えば7が正解なら[0,0,0,0,0,0,0,1,0,0]のように正解のところに1が立っていて、それ以外は0となるような表現のことを言う"
   ]
  },
  {
   "cell_type": "markdown",
   "metadata": {},
   "source": [
    "### Load Labels(Training Data)"
   ]
  },
  {
   "cell_type": "code",
   "execution_count": 3,
   "metadata": {},
   "outputs": [
    {
     "name": "stdout",
     "output_type": "stream",
     "text": [
      "2049\n",
      "60000\n",
      "shape: (60000, 10)\n"
     ]
    }
   ],
   "source": [
    "file = gzip.open(\"mnist/train-labels-idx1-ubyte.gz\", \"rb\")\n",
    "label_data = file.read()\n",
    "file.close()\n",
    "magic = int.from_bytes(label_data[0:4], byteorder='big')\n",
    "num_of_data = int.from_bytes(label_data[4:8], byteorder='big')\n",
    "print(magic)\n",
    "print(num_of_data)\n",
    "t_train  = np.ndarray((num_of_data,10), dtype='uint8')\n",
    "offset = 8\n",
    "for i in range(0, num_of_data):\n",
    "  t_train [i] = np.zeros(10,dtype=\"int8\")\n",
    "  t_train [i][label_data[offset+i]] = 1\n",
    "\n",
    "print (\"shape: {}\".format(t_train.shape))"
   ]
  },
  {
   "cell_type": "markdown",
   "metadata": {},
   "source": [
    "### Load Image(Training Data)"
   ]
  },
  {
   "cell_type": "code",
   "execution_count": 4,
   "metadata": {},
   "outputs": [
    {
     "name": "stdout",
     "output_type": "stream",
     "text": [
      "2051\n",
      "60000\n",
      "28\n",
      "28\n",
      "shape: (60000, 784)\n"
     ]
    }
   ],
   "source": [
    "file = gzip.open(\"mnist/train-images-idx3-ubyte.gz\", \"rb\")\n",
    "dataset = file.read()\n",
    "file.close()\n",
    "magic = int.from_bytes(dataset[0:4], byteorder='big')\n",
    "num_of_data = int.from_bytes(dataset[4:8], byteorder='big')\n",
    "num_of_rows = int.from_bytes(dataset[8:12], byteorder='big')\n",
    "num_of_cols = int.from_bytes(dataset[12:16], byteorder='big')\n",
    "print(magic)\n",
    "print(num_of_data)\n",
    "print(num_of_rows)\n",
    "print(num_of_cols)\n",
    "data_size = num_of_rows * num_of_cols\n",
    "x_train = np.ndarray((num_of_data, data_size), dtype='uint8')\n",
    "offset = 16\n",
    "for i in range(0, num_of_data):\n",
    "    for j in range(0, data_size):\n",
    "      x_train[i][j] = dataset[offset+i*data_size+j]\n",
    "\n",
    "print (\"shape: {}\".format(x_train.shape))"
   ]
  },
  {
   "cell_type": "markdown",
   "metadata": {},
   "source": [
    "### Load Labels (Test Label)"
   ]
  },
  {
   "cell_type": "code",
   "execution_count": 5,
   "metadata": {},
   "outputs": [
    {
     "name": "stdout",
     "output_type": "stream",
     "text": [
      "2049\n",
      "10000\n",
      "shape: (10000, 10)\n"
     ]
    }
   ],
   "source": [
    "file = gzip.open(\"mnist/t10k-labels-idx1-ubyte.gz\", \"rb\")\n",
    "label_data = file.read()\n",
    "file.close()\n",
    "magic = int.from_bytes(label_data[0:4], byteorder='big')\n",
    "num_of_data = int.from_bytes(label_data[4:8], byteorder='big')\n",
    "print(magic)\n",
    "print(num_of_data)\n",
    "t_test = np.ndarray((num_of_data,10), dtype='int8')\n",
    "offset = 8\n",
    "for i in range(0, num_of_data):\n",
    "  t_test [i] = np.zeros(10,dtype=\"uint8\")\n",
    "  t_test [i][label_data[offset+i]] = 1\n",
    "\n",
    "print (\"shape: {}\".format(t_test.shape))"
   ]
  },
  {
   "cell_type": "markdown",
   "metadata": {},
   "source": [
    "### Load Data(Test Data)"
   ]
  },
  {
   "cell_type": "code",
   "execution_count": 6,
   "metadata": {},
   "outputs": [
    {
     "name": "stdout",
     "output_type": "stream",
     "text": [
      "2051\n",
      "10000\n",
      "28\n",
      "28\n",
      "shape: (10000, 784)\n"
     ]
    }
   ],
   "source": [
    "file = gzip.open(\"mnist/t10k-images-idx3-ubyte.gz\", \"rb\")\n",
    "dataset = file.read()\n",
    "file.close()\n",
    "magic = int.from_bytes(dataset[0:4], byteorder='big')\n",
    "num_of_data = int.from_bytes(dataset[4:8], byteorder='big')\n",
    "num_of_rows = int.from_bytes(dataset[8:12], byteorder='big')\n",
    "num_of_cols = int.from_bytes(dataset[12:16], byteorder='big')\n",
    "print(magic)\n",
    "print(num_of_data)\n",
    "print(num_of_rows)\n",
    "print(num_of_cols)\n",
    "data_size = num_of_rows * num_of_cols\n",
    "x_test = np.ndarray((num_of_data, data_size), dtype='uint8')\n",
    "offset = 16\n",
    "for i in range(0, num_of_data):\n",
    "    for j in range(0, data_size):\n",
    "      x_test[i][j] = dataset[offset+i*data_size+j]\n",
    "\n",
    "print (\"shape: {}\".format(x_test.shape))"
   ]
  },
  {
   "cell_type": "markdown",
   "metadata": {},
   "source": [
    "### 1つ表示してみる\n",
    "- なんとなく読み込めていることを確認するために、適当なところを1つ表示してみます。"
   ]
  },
  {
   "cell_type": "code",
   "execution_count": 7,
   "metadata": {},
   "outputs": [
    {
     "name": "stdout",
     "output_type": "stream",
     "text": [
      "label : [0 0 0 0 0 0 0 1 0 0]\n"
     ]
    },
    {
     "data": {
      "text/plain": [
       "<matplotlib.image.AxesImage at 0x7fbf917dbb38>"
      ]
     },
     "execution_count": 7,
     "metadata": {},
     "output_type": "execute_result"
    },
    {
     "data": {
      "image/png": "[encoded data removed]",
      "text/plain": [
       "<Figure size 432x288 with 1 Axes>"
      ]
     },
     "metadata": {
      "needs_background": "light"
     },
     "output_type": "display_data"
    }
   ],
   "source": [
    "num_of_showimg = 9885\n",
    "print(\"label : {}\".format(t_train[num_of_showimg]))\n",
    "img = Image.fromarray(np.uint8(x_train[num_of_showimg].reshape(28,28)))\n",
    "plt.imshow(img)"
   ]
  },
  {
   "cell_type": "markdown",
   "metadata": {},
   "source": [
    "## 第２層(出力層)\n",
    "### softmax関数\n",
    "- softmax関数は出力層で利用され、その出力値の合計は1になります。\n",
    "- つまり、出力結果を確立値に変換するために利用されます。"
   ]
  },
  {
   "cell_type": "code",
   "execution_count": 8,
   "metadata": {
    "scrolled": true
   },
   "outputs": [
    {
     "name": "stdout",
     "output_type": "stream",
     "text": [
      "sum of softmax: 1.0\n"
     ]
    }
   ],
   "source": [
    "def softmax(x):\n",
    "    if x.ndim == 2:\n",
    "        x = x.T\n",
    "        x = x - np.max(x, axis=0)\n",
    "        y = np.exp(x) / np.sum(np.exp(x), axis=0)\n",
    "        return y.T \n",
    "\n",
    "    x = x - np.max(x) # オーバーフロー対策\n",
    "    return np.exp(x) / np.sum(np.exp(x))\n",
    "\n",
    "x = np.arange(-5.0, 5.0, 0.1)\n",
    "y = softmax(x)\n",
    "print(\"sum of softmax: {}\".format(np.sum(y)))"
   ]
  },
  {
   "cell_type": "markdown",
   "metadata": {},
   "source": [
    "## 第N層\n",
    "### 活性化関数: シグモイド\n",
    "\n",
    "- シグモイド関数は以下に通りある値を境にゆるやかに出力を変化させる非線形関数である。\n",
    "- 最初の図のh(x)として利用され、ある一定の値を超えたら値を出力するように、とある特徴量がある閾値を超えたら大きな値が出力されるようになる。"
   ]
  },
  {
   "cell_type": "code",
   "execution_count": 47,
   "metadata": {},
   "outputs": [
    {
     "data": {
      "image/png": "[encoded data removed]",
      "text/plain": [
       "<Figure size 432x288 with 1 Axes>"
      ]
     },
     "metadata": {
      "needs_background": "light"
     },
     "output_type": "display_data"
    }
   ],
   "source": [
    "def sigmoid(x):\n",
    "    return 1/(1+np.exp(-x))\n",
    "\n",
    "x = np.arange(-5.0, 5.0, 0.1)\n",
    "y = sigmoid(x)\n",
    "plt.plot(x,y)\n",
    "plt.ylim(-0.1,1.1)\n",
    "plt.show()"
   ]
  },
  {
   "cell_type": "markdown",
   "metadata": {},
   "source": [
    "### 重みの獲得: 損失関数\n",
    "- 損失関数に交差エントロピー関数を用いると、その値は-t(正解ラベル) * log(y(出力値))となる。\n",
    "- 正解ラベルはone hot表現で表されているため、正解ラベル以外はゼロでなくなるため、実質-log(y(出力値))となる。\n",
    "- これはつまり、出力値が1.0に近づく（つまり正しい状態）になると出力はゼロに近づき、逆に0に近づく（不正確）となると、出力値は大きくなる。\n",
    "- この場合、交差エントロピー関数が最小となるような重みを探していくことになる。"
   ]
  },
  {
   "cell_type": "code",
   "execution_count": 48,
   "metadata": {},
   "outputs": [
    {
     "data": {
      "image/png": "[encoded data removed]",
      "text/plain": [
       "<Figure size 432x288 with 1 Axes>"
      ]
     },
     "metadata": {
      "needs_background": "light"
     },
     "output_type": "display_data"
    }
   ],
   "source": [
    "def cross_entropy_error(y, t):\n",
    "    if y.ndim == 1:\n",
    "        t = t.reshape(1, t.size)\n",
    "        y = y.reshape(1, y.size)\n",
    "        \n",
    "    # 教師データがone-hot-vectorの場合、正解ラベルのインデックスに変換\n",
    "    if t.size == y.size:\n",
    "        t = t.argmax(axis=1)\n",
    "             \n",
    "    batch_size = y.shape[0]\n",
    "    return -np.sum(np.log(y[np.arange(batch_size), t] + 1e-7)) / batch_size\n",
    "\n",
    "x = np.arange(0.0, 1.0, 0.01)\n",
    "y = -np.log(x+ 1e-7)\n",
    "plt.plot(x,y)\n",
    "plt.ylim(-0.1,5.0)\n",
    "plt.show()"
   ]
  },
  {
   "cell_type": "markdown",
   "metadata": {},
   "source": [
    "### 勾配の計算\n",
    "- 勾配を計算することで、先程の損失関数(交差エントロピー関数)が小さくなる方向を計算することができます。\n",
    "- f(関数)の地点xにおける勾配を計算します。"
   ]
  },
  {
   "cell_type": "code",
   "execution_count": 49,
   "metadata": {},
   "outputs": [],
   "source": [
    "def numerical_gradient(f, x):\n",
    "    h = 1e-4 # 0.0001\n",
    "    grad = np.zeros_like(x)\n",
    "    it = np.nditer(x, flags=['multi_index'], op_flags=['readwrite'])\n",
    "    while not it.finished:\n",
    "        idx = it.multi_index\n",
    "        tmp_val = x[idx]\n",
    "        x[idx] = float(tmp_val) + h\n",
    "        fxh1 = f(x) # f(x+h)\n",
    "\n",
    "        x[idx] = float(tmp_val) - h \n",
    "        fxh2 = f(x) # f(x-h)\n",
    "        grad[idx] = (fxh1 - fxh2) / (2*h)\n",
    "        #print(\"01 -> fxh1 = {}\".format(fxh1))\n",
    "        #print(\"01 -> fxh2 = {}\".format(fxh2))\n",
    "\n",
    "        x[idx] = tmp_val # 値を元に戻す\n",
    "        \n",
    "        it.iternext()\n",
    "\n",
    "    return grad"
   ]
  },
  {
   "cell_type": "markdown",
   "metadata": {},
   "source": [
    "## 全体の流れをコード化する\n",
    "### 重み\n",
    "- 初期段階では乱数で決定する"
   ]
  },
  {
   "cell_type": "code",
   "execution_count": 50,
   "metadata": {},
   "outputs": [],
   "source": [
    "input_size=784\n",
    "hidden_size=50\n",
    "output_size=10\n",
    "weight_init_std=0.01\n",
    "\n",
    "class Params:\n",
    "    def __init__(self):\n",
    "        self.params = {}\n",
    "        self.params['W1'] = weight_init_std * np.random.randn(input_size, hidden_size)\n",
    "        self.params['b1'] = np.zeros(hidden_size)\n",
    "        self.params['W2'] = weight_init_std * np.random.randn(hidden_size, output_size)\n",
    "        self.params['b2'] = np.zeros(output_size)\n",
    "\n",
    "p = Params()"
   ]
  },
  {
   "cell_type": "markdown",
   "metadata": {},
   "source": [
    "### ハイパーパラメータ\n",
    "- 学習などのキーとなるハイパーパラメータを設定する\n",
    "- これは手動で設定する必要があり、難しいところらしい。\n",
    "- 例えば学習の繰り返し回数や、バッチサイズ、学習率等が挙げられる"
   ]
  },
  {
   "cell_type": "code",
   "execution_count": 51,
   "metadata": {},
   "outputs": [],
   "source": [
    "iters_num = 10000  # 繰り返しの回数を適宜設定する\n",
    "train_size = x_train.shape[0]\n",
    "batch_size = 100\n",
    "learning_rate = 0.1"
   ]
  },
  {
   "cell_type": "markdown",
   "metadata": {},
   "source": [
    "### Define Predict Func(Neural Network)"
   ]
  },
  {
   "cell_type": "code",
   "execution_count": 52,
   "metadata": {},
   "outputs": [],
   "source": [
    "def predict(x):\n",
    "    W1, W2 = p.params['W1'], p.params['W2']\n",
    "    b1, b2 = p.params['b1'], p.params['b2']\n",
    "    \n",
    "    a1 = np.dot(x, W1) + b1\n",
    "    z1 = sigmoid(a1)\n",
    "    a2 = np.dot(z1, W2) + b2\n",
    "    y = softmax(a2)\n",
    "        \n",
    "    return y"
   ]
  },
  {
   "cell_type": "markdown",
   "metadata": {},
   "source": [
    "### Define Loss Function"
   ]
  },
  {
   "cell_type": "code",
   "execution_count": 53,
   "metadata": {},
   "outputs": [],
   "source": [
    "def loss(x, t):\n",
    "    y = predict(x)\n",
    "\n",
    "    return cross_entropy_error(y, t)"
   ]
  },
  {
   "cell_type": "markdown",
   "metadata": {},
   "source": [
    "### Error Propagation Method\n",
    "- above method is too slow, so implemented faster method(error propagation)"
   ]
  },
  {
   "cell_type": "code",
   "execution_count": 54,
   "metadata": {},
   "outputs": [],
   "source": [
    "def sigmoid_grad(x):\n",
    "    return (1.0 - sigmoid(x)) * sigmoid(x)\n",
    "\n",
    "def gradient(x, t):\n",
    "    W1, W2 = p.params['W1'], p.params['W2']\n",
    "    b1, b2 = p.params['b1'], p.params['b2']\n",
    "    grads = {}\n",
    "\n",
    "    batch_num = x.shape[0]\n",
    "\n",
    "    # forward\n",
    "    a1 = np.dot(x, W1) + b1\n",
    "    z1 = sigmoid(a1)\n",
    "    a2 = np.dot(z1, W2) + b2\n",
    "    y = softmax(a2)\n",
    "\n",
    "    # backward\n",
    "    dy = (y - t) / batch_num\n",
    "    grads['W2'] = np.dot(z1.T, dy)\n",
    "    grads['b2'] = np.sum(dy, axis=0)\n",
    "\n",
    "    dz1 = np.dot(dy, W2.T)\n",
    "    da1 = sigmoid_grad(a1) * dz1\n",
    "    grads['W1'] = np.dot(x.T, da1)\n",
    "    grads['b1'] = np.sum(da1, axis=0)\n",
    "\n",
    "    return grads"
   ]
  },
  {
   "cell_type": "code",
   "execution_count": 55,
   "metadata": {
    "scrolled": true
   },
   "outputs": [
    {
     "name": "stdout",
     "output_type": "stream",
     "text": [
      "train acc, test acc | 0.130616666667, 0.1345\n"
     ]
    },
    {
     "name": "stderr",
     "output_type": "stream",
     "text": [
      "/opt/conda/lib/python3.6/site-packages/ipykernel_launcher.py:2: RuntimeWarning: overflow encountered in exp\n",
      "  \n"
     ]
    },
    {
     "name": "stdout",
     "output_type": "stream",
     "text": [
      "train acc, test acc | 0.858166666667, 0.8664\n",
      "train acc, test acc | 0.8678, 0.8738\n",
      "train acc, test acc | 0.863433333333, 0.8711\n",
      "train acc, test acc | 0.86085, 0.8629\n",
      "train acc, test acc | 0.859533333333, 0.8647\n",
      "train acc, test acc | 0.8637, 0.8664\n",
      "train acc, test acc | 0.87945, 0.8791\n",
      "train acc, test acc | 0.8722, 0.8779\n",
      "train acc, test acc | 0.867933333333, 0.8711\n",
      "train acc, test acc | 0.886166666667, 0.8884\n",
      "train acc, test acc | 0.8841, 0.8872\n",
      "train acc, test acc | 0.885833333333, 0.8917\n",
      "train acc, test acc | 0.895833333333, 0.8994\n",
      "train acc, test acc | 0.88815, 0.8906\n",
      "train acc, test acc | 0.890633333333, 0.8985\n",
      "train acc, test acc | 0.879933333333, 0.8799\n"
     ]
    },
    {
     "data": {
      "image/png": "[encoded data removed]",
      "text/plain": [
       "<Figure size 432x288 with 1 Axes>"
      ]
     },
     "metadata": {
      "needs_background": "light"
     },
     "output_type": "display_data"
    }
   ],
   "source": [
    "train_loss_list = []\n",
    "train_acc_list = []\n",
    "test_acc_list = []\n",
    "\n",
    "iter_per_epoch = int(max(train_size / batch_size, 1))\n",
    "\n",
    "for i in range(iters_num):\n",
    "#    print(i)\n",
    "    batch_mask = np.random.choice(train_size, batch_size)\n",
    "    x_batch = x_train[batch_mask]\n",
    "    t_batch = t_train[batch_mask]\n",
    "    \n",
    "    # 勾配の計算\n",
    "    loss_W = lambda W: loss(x_batch, t_batch)\n",
    "    \n",
    "    grads = {}\n",
    "    #grads['W1'] = numerical_gradient(loss_W, p.params['W1'])\n",
    "    #grads['b1'] = numerical_gradient(loss_W, p.params['b1'])\n",
    "    #grads['W2'] = numerical_gradient(loss_W, p.params['W2'])\n",
    "    #grads['b2'] = numerical_gradient(loss_W, p.params['b2'])\n",
    "    \n",
    "    \n",
    "    grads = gradient(x_batch, t_batch)\n",
    "    \n",
    "    # パラメータの更新\n",
    "    for key in ('W1', 'b1', 'W2', 'b2'):\n",
    "        p.params[key] -= learning_rate * grads[key]\n",
    "\n",
    "    loss_val = loss(x_batch, t_batch)\n",
    "    train_loss_list.append(loss_val)\n",
    "    \n",
    "    if i % iter_per_epoch == 0:\n",
    "        \n",
    "        y = predict(x_train)\n",
    "        y = np.argmax(y, axis=1)\n",
    "        t = np.argmax(t_train, axis=1)\n",
    "        train_acc = np.sum(y == t) / float(x_train.shape[0])\n",
    "        \n",
    "        y = predict(x_test)\n",
    "        y = np.argmax(y, axis=1)\n",
    "        t = np.argmax(t_test, axis=1)\n",
    "        test_acc = np.sum(y == t) / float(x_test.shape[0])\n",
    "        \n",
    "        train_acc_list.append(train_acc)\n",
    "        test_acc_list.append(test_acc)\n",
    "        print(\"train acc, test acc | \" + str(train_acc) + \", \" + str(test_acc))\n",
    "\n",
    "# グラフの描画\n",
    "markers = {'train': 'o', 'test': 's'}\n",
    "x = np.arange(len(train_acc_list))\n",
    "plt.plot(x, train_acc_list, label='train acc')\n",
    "plt.plot(x, test_acc_list, label='test acc', linestyle='--')\n",
    "plt.xlabel(\"epochs\")\n",
    "plt.ylabel(\"accuracy\")\n",
    "plt.ylim(0, 1.0)\n",
    "plt.legend(loc='lower right')\n",
    "plt.show()\n"
   ]
  },
  {
   "cell_type": "code",
   "execution_count": null,
   "metadata": {},
   "outputs": [],
   "source": []
  },
  {
   "cell_type": "code",
   "execution_count": null,
   "metadata": {},
   "outputs": [],
   "source": []
  }
 ],
 "metadata": {
  "kernelspec": {
   "display_name": "Python 3",
   "language": "python",
   "name": "python3"
  },
  "language_info": {
   "codemirror_mode": {
    "name": "ipython",
    "version": 3
   },
   "file_extension": ".py",
   "mimetype": "text/x-python",
   "name": "python",
   "nbconvert_exporter": "python",
   "pygments_lexer": "ipython3",
   "version": "3.6.7"
  }
 },
 "nbformat": 4,
 "nbformat_minor": 2
}
