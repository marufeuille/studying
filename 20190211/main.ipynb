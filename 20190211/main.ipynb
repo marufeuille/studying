{
 "cells": [
  {
   "cell_type": "markdown",
   "metadata": {},
   "source": [
    "# 第2回 機械学習勉強会\n",
    "## 先に今回のオチ\n",
    "- 結局、tensorflowわからん、で行き詰まりました。(コードを読むのに莫大な時間がかかる・・・)\n",
    "  - ほぼ英語で書かれていて、読んでもよくわからないので動かそうとして詰まった\n",
    "- いまの旬は転移学習ということがわかった\n",
    "\n",
    "### 転移学習\n",
    "- 特定のドメインで学習させた事象を別のドメインの学習の下敷きとして効率よく学習させる\n",
    "- 例えば、Inception-V3は画像(オブジェクト)を1000クラスに分類するが、それを下敷きに犬猫を判定させる、とか\n",
    "- 似ているドメインであれば殆どの部分を流用できることがわかっているらしい\n",
    "- 参考: [転移学習：機械学習の次のフロンティアへの招待](https://qiita.com/icoxfog417/items/48cbf087dd22f1f8c6f4)\n",
    "\n",
    "### 前回見たモデルはなんだったのか\n",
    "- [orriaga](https://github.com/oarriaga/face_classification) は以下から学習されている\n",
    "  -  顔画像(感情）のデータセット [fer2013](https://www.kaggle.com/c/challenges-in-representation-learning-facial-expression-recognition-challenge/data)\n",
    "  - 顔画像（性別)のデータセット [IMDB Gender Dataset](https://data.vision.ee.ethz.ch/cvl/rrothe/imdb-wiki/)\n",
    "- もしかすると、日本人画像を使って転移学習すると精度あがるかも。\n",
    "\n",
    "### 次回予告\n",
    "- 転移学習、いくつかやってみます\n",
    "- tensorflowが本当に何者なのか、少し調べてみます。\n",
    "\n",
    "## 学習済みモデルの話\n",
    "### 学習済みモデル\n",
    "- [tensorflow](https://github.com/tensorflow/models/)\n",
    "- [Model Zoo](https://github.com/BVLC/caffe/wiki/Model-Zoo)\n",
    "- [Caffe](http://docs.chainer.org/en/stable/reference/caffe.html)\n",
    "- [MXNet](https://github.com/dmlc/mxnet-model-gallery)\n",
    "- [Keras](https://keras.io/getting-started/faq/#how-can-i-use-pre-trained-models-in-keras)\n",
    "\n",
    "### 学習済みモデルをまとめているところ\n",
    "- [tfhub](https://tfhub.dev/)\n",
    "  Googleのやつ。\n",
    "  使い方は書いてあるけど、説明がイマイチわかりにくい。\n",
    "  こんな感じで簡単に使えるらしい。\n",
    "  ![usage](img/tfhub_usage.png)\n",
    "  \n",
    "- [Model Asset eXchange (IBM)](https://developer.ibm.com/exchanges/models/)\n",
    "\n",
    "  \n",
    "## tfhubを使ってみる\n",
    "### とりあえずインストール\n",
    "- [installation](https://www.tensorflow.org/hub/installation)"
   ]
  },
  {
   "cell_type": "raw",
   "metadata": {},
   "source": [
    "pip install \"tensorflow>=1.7.0\"\n",
    "pip install tensorflow-hub"
   ]
  },
  {
   "cell_type": "markdown",
   "metadata": {},
   "source": [
    "### まあやってみよう\n",
    "- 以下のテキスト分類器を\n",
    "\n",
    "[How to build a simple text classifier with TF-Hub](https://www.tensorflow.org/hub/tutorials/text_classification_with_tf_hub)"
   ]
  },
  {
   "cell_type": "raw",
   "metadata": {},
   "source": [
    "pip install seaborn"
   ]
  },
  {
   "cell_type": "markdown",
   "metadata": {},
   "source": [
    "### 必要ライブラリのimport"
   ]
  },
  {
   "cell_type": "code",
   "execution_count": 2,
   "metadata": {},
   "outputs": [],
   "source": [
    "import tensorflow as tf\n",
    "import tensorflow_hub as hub\n",
    "import matplotlib.pyplot as plt\n",
    "import numpy as np\n",
    "import os\n",
    "import pandas as pd\n",
    "import re\n",
    "import seaborn as sns"
   ]
  },
  {
   "cell_type": "markdown",
   "metadata": {},
   "source": [
    "### データセットの読み込み\n",
    "- ロードしたデータセット: [Large Movie Review Dataset](http://ai.stanford.edu/~amaas/data/sentiment/)\n",
    "  - 中身は[IMDb](https://www.imdb.com/)という、Amazon.comの運営するTVや映画に対するレビューサイトのレビューをpos, negでラベル付けしたデータ。\n",
    "  - 50,000のデータの25,000を訓練用、残りを試験用にしている\n",
    "- file名がid_rating(星の数).txtになっていて、ratingが7以上ならpos, 4以下ならposとしていて、それをsentimentとしてプログラム上表現。\n",
    "  - テストデータには5以上だったり、5以下のデータセットも含んでいる\n",
    "- レビューがポジティブならpolarityは1, negativeならpolarityは0になる\n"
   ]
  },
  {
   "cell_type": "code",
   "execution_count": 3,
   "metadata": {},
   "outputs": [
    {
     "name": "stdout",
     "output_type": "stream",
     "text": [
      "Downloading data from http://ai.stanford.edu/~amaas/data/sentiment/aclImdb_v1.tar.gz\n",
      "84131840/84125825 [==============================] - 13s 0us/step\n"
     ]
    },
    {
     "data": {
      "text/html": [
       "<div>\n",
       "<style scoped>\n",
       "    .dataframe tbody tr th:only-of-type {\n",
       "        vertical-align: middle;\n",
       "    }\n",
       "\n",
       "    .dataframe tbody tr th {\n",
       "        vertical-align: top;\n",
       "    }\n",
       "\n",
       "    .dataframe thead th {\n",
       "        text-align: right;\n",
       "    }\n",
       "</style>\n",
       "<table border=\"1\" class=\"dataframe\">\n",
       "  <thead>\n",
       "    <tr style=\"text-align: right;\">\n",
       "      <th></th>\n",
       "      <th>sentence</th>\n",
       "      <th>sentiment</th>\n",
       "      <th>polarity</th>\n",
       "    </tr>\n",
       "  </thead>\n",
       "  <tbody>\n",
       "    <tr>\n",
       "      <th>0</th>\n",
       "      <td>Well , I come from Bulgaria where it 's almost...</td>\n",
       "      <td>10</td>\n",
       "      <td>1</td>\n",
       "    </tr>\n",
       "    <tr>\n",
       "      <th>1</th>\n",
       "      <td>My short comment for this flick is go pick it ...</td>\n",
       "      <td>8</td>\n",
       "      <td>1</td>\n",
       "    </tr>\n",
       "    <tr>\n",
       "      <th>2</th>\n",
       "      <td>Written by Stephen King, but this treatment is...</td>\n",
       "      <td>4</td>\n",
       "      <td>0</td>\n",
       "    </tr>\n",
       "    <tr>\n",
       "      <th>3</th>\n",
       "      <td>This particular Joe McDoakes short subject was...</td>\n",
       "      <td>7</td>\n",
       "      <td>1</td>\n",
       "    </tr>\n",
       "    <tr>\n",
       "      <th>4</th>\n",
       "      <td>...though for a film that seems to be trying t...</td>\n",
       "      <td>1</td>\n",
       "      <td>0</td>\n",
       "    </tr>\n",
       "  </tbody>\n",
       "</table>\n",
       "</div>"
      ],
      "text/plain": [
       "                                            sentence sentiment  polarity\n",
       "0  Well , I come from Bulgaria where it 's almost...        10         1\n",
       "1  My short comment for this flick is go pick it ...         8         1\n",
       "2  Written by Stephen King, but this treatment is...         4         0\n",
       "3  This particular Joe McDoakes short subject was...         7         1\n",
       "4  ...though for a film that seems to be trying t...         1         0"
      ]
     },
     "execution_count": 3,
     "metadata": {},
     "output_type": "execute_result"
    }
   ],
   "source": [
    "# Load all files from a directory in a DataFrame.\n",
    "def load_directory_data(directory):\n",
    "  data = {}\n",
    "  data[\"sentence\"] = []\n",
    "  data[\"sentiment\"] = []\n",
    "  for file_path in os.listdir(directory):\n",
    "    with tf.gfile.GFile(os.path.join(directory, file_path), \"r\") as f:\n",
    "      data[\"sentence\"].append(f.read())\n",
    "      data[\"sentiment\"].append(re.match(\"\\d+_(\\d+)\\.txt\", file_path).group(1))\n",
    "  return pd.DataFrame.from_dict(data)\n",
    "\n",
    "# Merge positive and negative examples, add a polarity column and shuffle.\n",
    "def load_dataset(directory):\n",
    "  pos_df = load_directory_data(os.path.join(directory, \"pos\"))\n",
    "  neg_df = load_directory_data(os.path.join(directory, \"neg\"))\n",
    "  pos_df[\"polarity\"] = 1\n",
    "  neg_df[\"polarity\"] = 0\n",
    "  return pd.concat([pos_df, neg_df]).sample(frac=1).reset_index(drop=True)\n",
    "\n",
    "# Download and process the dataset files.\n",
    "def download_and_load_datasets(force_download=False):\n",
    "  dataset = tf.keras.utils.get_file(\n",
    "      fname=\"aclImdb.tar.gz\", \n",
    "      origin=\"http://ai.stanford.edu/~amaas/data/sentiment/aclImdb_v1.tar.gz\", \n",
    "      extract=True)\n",
    "  \n",
    "  train_df = load_dataset(os.path.join(os.path.dirname(dataset), \n",
    "                                       \"aclImdb\", \"train\"))\n",
    "  test_df = load_dataset(os.path.join(os.path.dirname(dataset), \n",
    "                                      \"aclImdb\", \"test\"))\n",
    "  \n",
    "  return train_df, test_df\n",
    "\n",
    "# Reduce logging output.\n",
    "tf.logging.set_verbosity(tf.logging.ERROR)\n",
    "\n",
    "train_df, test_df = download_and_load_datasets()\n",
    "train_df.head()"
   ]
  },
  {
   "cell_type": "markdown",
   "metadata": {},
   "source": [
    "### Estimatorを使うための準備\n",
    "- まずモデルを試すためのEstimatorを準備するために、入力データセットを作る\n",
    "- 追加学習用、学習用データセットからのテスト用、予測用データセットからのテスト用"
   ]
  },
  {
   "cell_type": "code",
   "execution_count": 5,
   "metadata": {},
   "outputs": [],
   "source": [
    "# Training input on the whole training set with no limit on training epochs.\n",
    "train_input_fn = tf.estimator.inputs.pandas_input_fn(\n",
    "    train_df, train_df[\"polarity\"], num_epochs=None, shuffle=True)\n",
    "\n",
    "# Prediction on the whole training set.\n",
    "predict_train_input_fn = tf.estimator.inputs.pandas_input_fn(\n",
    "    train_df, train_df[\"polarity\"], shuffle=False)\n",
    "# Prediction on the test set.\n",
    "predict_test_input_fn = tf.estimator.inputs.pandas_input_fn(\n",
    "    test_df, test_df[\"polarity\"], shuffle=False)"
   ]
  },
  {
   "cell_type": "markdown",
   "metadata": {},
   "source": [
    "### tfhubからモデルを読み込み\n",
    "ここでようやくnnlm-en-dim128というモデルを読み込んでいる模様\n",
    "keyはInput側のどの要素を使うかの指定。ここではsentenceなところを入力値に使うとしている"
   ]
  },
  {
   "cell_type": "code",
   "execution_count": 6,
   "metadata": {
    "collapsed": true
   },
   "outputs": [],
   "source": [
    "embedded_text_feature_column = hub.text_embedding_column(\n",
    "    key=\"sentence\", \n",
    "    module_spec=\"https://tfhub.dev/google/nnlm-en-dim128/1\")"
   ]
  },
  {
   "cell_type": "markdown",
   "metadata": {},
   "source": [
    "### TFHubからもってくる\n",
    "- DNN(Deep Neural Networking)分類器を使う"
   ]
  },
  {
   "cell_type": "code",
   "execution_count": 7,
   "metadata": {},
   "outputs": [],
   "source": [
    "estimator = tf.estimator.DNNClassifier(\n",
    "    hidden_units=[500, 100],\n",
    "    feature_columns=[embedded_text_feature_column],\n",
    "    n_classes=2,\n",
    "    optimizer=tf.train.AdagradOptimizer(learning_rate=0.003))"
   ]
  },
  {
   "cell_type": "markdown",
   "metadata": {},
   "source": [
    "### 学習"
   ]
  },
  {
   "cell_type": "code",
   "execution_count": null,
   "metadata": {},
   "outputs": [],
   "source": [
    "estimator.train(input_fn=train_input_fn, steps=1000);"
   ]
  },
  {
   "cell_type": "markdown",
   "metadata": {},
   "source": [
    "### 評価"
   ]
  },
  {
   "cell_type": "code",
   "execution_count": 13,
   "metadata": {},
   "outputs": [
    {
     "name": "stdout",
     "output_type": "stream",
     "text": [
      "Training set accuracy: 0.8031600117683411\n",
      "Test set accuracy: 0.7934799790382385\n"
     ]
    }
   ],
   "source": [
    "train_eval_result = estimator.evaluate(input_fn=predict_train_input_fn)\n",
    "test_eval_result = estimator.evaluate(input_fn=predict_test_input_fn)\n",
    "\n",
    "print(\"Training set accuracy: {accuracy}\".format(**train_eval_result))\n",
    "print(\"Test set accuracy: {accuracy}\".format(**test_eval_result))"
   ]
  },
  {
   "cell_type": "markdown",
   "metadata": {},
   "source": [
    "### 自分で適当なデータを作って試してみる"
   ]
  },
  {
   "cell_type": "code",
   "execution_count": 32,
   "metadata": {},
   "outputs": [
    {
     "name": "stdout",
     "output_type": "stream",
     "text": [
      "0\n",
      "Yeah!! this is a great!! I am a fun of this movie. =>  neg: 0.11237171292304993 / pos: 0.8876282572746277\n",
      "1\n",
      "Wow... this is a terrible. I will not watch this movie again. =>  neg: 0.6576606035232544 / pos: 0.34233948588371277\n"
     ]
    }
   ],
   "source": [
    "text = [\"Yeah!! this is a great!! I am a fun of this movie.\", \"Wow... this is a terrible. I will not watch this movie again.\"]\n",
    "\n",
    "predict_df = pd.DataFrame({ 'sentence' : text, 'polarity': [8,3]})\n",
    "predict_fn = tf.estimator.inputs.pandas_input_fn(\n",
    "    predict_df, predict_df[\"polarity\"], num_epochs=1, shuffle=True)\n",
    "predictions = estimator.predict(input_fn=predict_fn)\n",
    "\n",
    "    print(i)\n",
    "    print(\"{} =>  neg: {} / pos: {}\".format(text[i], p[\"probabilities\"][0], p[\"probabilities\"][1]))"
   ]
  },
  {
   "cell_type": "markdown",
   "metadata": {},
   "source": [
    "### ConfusionMatrix(偽陰性、偽陽性を見るやつ)"
   ]
  },
  {
   "cell_type": "code",
   "execution_count": 10,
   "metadata": {},
   "outputs": [
    {
     "data": {
      "image/png": "[encoded data removed]",
      "text/plain": [
       "<Figure size 432x288 with 2 Axes>"
      ]
     },
     "metadata": {
      "needs_background": "light"
     },
     "output_type": "display_data"
    }
   ],
   "source": [
    "def get_predictions(estimator, input_fn):\n",
    "  return [x[\"class_ids\"][0] for x in estimator.predict(input_fn=input_fn)]\n",
    "\n",
    "LABELS = [\n",
    "    \"negative\", \"positive\"\n",
    "]\n",
    "\n",
    "# Create a confusion matrix on training data.\n",
    "with tf.Graph().as_default():\n",
    "  cm = tf.confusion_matrix(train_df[\"polarity\"], \n",
    "                           get_predictions(estimator, predict_train_input_fn))\n",
    "  with tf.Session() as session:\n",
    "    cm_out = session.run(cm)\n",
    "\n",
    "# Normalize the confusion matrix so that each row sums to 1.\n",
    "cm_out = cm_out.astype(float) / cm_out.sum(axis=1)[:, np.newaxis]\n",
    "\n",
    "sns.heatmap(cm_out, annot=True, xticklabels=LABELS, yticklabels=LABELS);\n",
    "plt.xlabel(\"Predicted\");\n",
    "plt.ylabel(\"True\");"
   ]
  },
  {
   "cell_type": "code",
   "execution_count": null,
   "metadata": {},
   "outputs": [],
   "source": []
  }
 ],
 "metadata": {
  "kernelspec": {
   "display_name": "Python 3",
   "language": "python",
   "name": "python3"
  },
  "language_info": {
   "codemirror_mode": {
    "name": "ipython",
    "version": 3
   },
   "file_extension": ".py",
   "mimetype": "text/x-python",
   "name": "python",
   "nbconvert_exporter": "python",
   "pygments_lexer": "ipython3",
   "version": "3.6.7"
  }
 },
 "nbformat": 4,
 "nbformat_minor": 2
}
